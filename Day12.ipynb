
Open In Colab

import numpy as np
import pandas as pd
l1=[1,2,3,4,5,6]
labels=['a','b','c','d','e','f']
d1={"A":10,"B":20,"C":30,"D":40,"E":50}

     

s1=pd.Series(l1)
print(s1)
s2=pd.Series(labels)
print(s2)
s3=pd.Series(data=l1,index=labels)
print(s3)
s4=pd.Series(d1)
print(s4)
s4[2]
     
0    1
1    2
2    3
3    4
4    5
5    6
dtype: int64
0    a
1    b
2    c
3    d
4    e
5    f
dtype: object
a    1
b    2
c    3
d    4
e    5
f    6
dtype: int64
A    10
B    20
C    30
D    40
E    50
dtype: int64
30

arr=np.random.randint(low=1,high=100,size=(5,6))
print(arr)
pd.DataFrame(arr)
     
[[80 25 23 38 18 99]
 [32 99 89 27 65 68]
 [59 72 73 21 95 44]
 [19 67 19 59 89 67]
 [70 60 46  1 70 51]]
0	1	2	3	4	5
0	80	25	23	38	18	99
1	32	99	89	27	65	68
2	59	72	73	21	95	44
3	19	67	19	59	89	67
4	70	60	46	1	70	51

df=pd.DataFrame(arr,index=["A","B","C","D","E"],columns=["U","V","W","X","y","Z"])
df
     
U	V	W	X	y	Z
A	80	25	23	38	18	99
B	32	99	89	27	65	68
C	59	72	73	21	95	44
D	19	67	19	59	89	67
E	70	60	46	1	70	51

print(df["X"])
print(df[["X","y"]])
df.loc["C"]
     
A    38
B    27
C    21
D    59
E     1
Name: X, dtype: int64
    X   y
A  38  18
B  27  65
C  21  95
D  59  89
E   1  70
U    59
V    72
W    73
X    21
y    95
Z    44
Name: C, dtype: int64

np.__version__
     
'1.25.2'

pd.__version__
     
'2.0.3'


     

df['new']=[10,20,30,40,50,]
df
     
U	V	W	X	y	Z	z	new
A	80	25	23	38	18	10	10	10
B	32	99	89	27	65	20	20	20
C	59	72	73	21	95	30	30	30
D	19	67	19	59	89	40	40	40
E	70	60	46	1	70	50	50	50


     

df.drop('new',axis=1)
df
     
U	V	W	X	y	Z	z	new
A	80	25	23	38	18	10	10	10
B	32	99	89	27	65	20	20	20
C	59	72	73	21	95	30	30	30
D	19	67	19	59	89	40	40	40
E	70	60	46	1	70	50	50	50

df.drop('new',axis=1,inplace=True)
df
     
U	V	W	X	y	Z	z
A	80	25	23	38	18	10	10
B	32	99	89	27	65	20	20
C	59	72	73	21	95	30	30
D	19	67	19	59	89	40	40
E	70	60	46	1	70	50	50

df
     
U	V	W	X	y	Z	z
A	80	25	23	38	18	10	10
B	32	99	89	27	65	20	20
C	59	72	73	21	95	30	30
D	19	67	19	59	89	40	40
E	70	60	46	1	70	50	50

df.drop('z',axis=1,inplace=True)
df
     
U	V	W	X	y	Z
A	80	25	23	38	18	10
B	32	99	89	27	65	20
C	59	72	73	21	95	30
D	19	67	19	59	89	40
E	70	60	46	1	70	50

df['X']%2==0
     
A     True
B    False
C    False
D    False
E    False
Name: X, dtype: bool

df[df['X']%2==0]['y']
     
A    18
Name: y, dtype: int64

df[(df['X']%2==0)&(df["X"]>50)]
     
U	V	W	X	y	Z


     
